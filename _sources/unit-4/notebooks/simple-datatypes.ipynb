{
 "cells": [
  {
   "cell_type": "markdown",
   "id": "807df99b-4591-4782-bf36-1e9f046217b3",
   "metadata": {},
   "source": [
    "# Simple datatypes notebook\n",
    "\n",
    "We will be looking at four fundamental datatypes:\n",
    "* integer\n",
    "* real\n",
    "* boolean\n",
    "* character\n",
    "\n",
    "In Python, these types correspond roughly to\n",
    "\n",
    "| Basic Type | Python Type |\n",
    "|---|---|\n",
    "|integer | int|\n",
    "|real | float |\n",
    "|boolean | bool |\n",
    "|character | str (but not quite) |\n",
    "\n",
    "\n",
    "```{note}\n",
    "Here is a note!\n",
    "```\n",
    "\n",
    "```{warning}\n",
    "\n",
    "Python 2 vs Python 3\n",
    "```\n",
    "\n",
    "We can ask for the type of any value using the builtin function `type`\n",
    "\n"
   ]
  },
  {
   "cell_type": "code",
   "execution_count": 1,
   "id": "7c70d924-01f3-4aa8-a3cc-fd1fc72e76e5",
   "metadata": {},
   "outputs": [
    {
     "data": {
      "text/plain": [
       "int"
      ]
     },
     "execution_count": 1,
     "metadata": {},
     "output_type": "execute_result"
    }
   ],
   "source": [
    "type(5)"
   ]
  },
  {
   "cell_type": "code",
   "execution_count": 2,
   "id": "e2301b2f-4bf1-4a2d-8ff3-face2a1a4eff",
   "metadata": {},
   "outputs": [
    {
     "data": {
      "text/plain": [
       "float"
      ]
     },
     "execution_count": 2,
     "metadata": {},
     "output_type": "execute_result"
    }
   ],
   "source": [
    "type(5.0)"
   ]
  },
  {
   "cell_type": "code",
   "execution_count": 3,
   "id": "6d2badea-d30f-4e34-b170-bd96aa319992",
   "metadata": {},
   "outputs": [
    {
     "data": {
      "text/plain": [
       "bool"
      ]
     },
     "execution_count": 3,
     "metadata": {},
     "output_type": "execute_result"
    }
   ],
   "source": [
    "type(True)"
   ]
  },
  {
   "cell_type": "code",
   "execution_count": 4,
   "id": "700eda6c-c5f6-49f7-8b60-32200b1c2466",
   "metadata": {},
   "outputs": [
    {
     "data": {
      "text/plain": [
       "str"
      ]
     },
     "execution_count": 4,
     "metadata": {},
     "output_type": "execute_result"
    }
   ],
   "source": [
    "type('a')"
   ]
  },
  {
   "cell_type": "markdown",
   "id": "f7d8cfc5-f15b-488d-892e-e6350e1dbb89",
   "metadata": {},
   "source": [
    "## Conversion\n",
    "\n",
    "The types: `int`, `float`, `bool`, and `str` can also be used as functions to **cast** or convert from one datatype to another."
   ]
  },
  {
   "cell_type": "code",
   "execution_count": 11,
   "id": "3e7ceee3-513f-4265-af26-444450fe0727",
   "metadata": {},
   "outputs": [],
   "source": [
    "val = 1"
   ]
  },
  {
   "cell_type": "code",
   "execution_count": 12,
   "id": "ed380b0c-2b06-434d-bac9-139905dd80a6",
   "metadata": {},
   "outputs": [
    {
     "data": {
      "text/plain": [
       "1"
      ]
     },
     "execution_count": 12,
     "metadata": {},
     "output_type": "execute_result"
    }
   ],
   "source": [
    "int(val)"
   ]
  },
  {
   "cell_type": "code",
   "execution_count": 13,
   "id": "fa1073c7-4132-411a-9369-2381af1aff24",
   "metadata": {},
   "outputs": [
    {
     "data": {
      "text/plain": [
       "1.0"
      ]
     },
     "execution_count": 13,
     "metadata": {},
     "output_type": "execute_result"
    }
   ],
   "source": [
    "float(val)"
   ]
  },
  {
   "cell_type": "code",
   "execution_count": 14,
   "id": "87a26b62-d131-45d9-a772-19f053fcb986",
   "metadata": {},
   "outputs": [
    {
     "data": {
      "text/plain": [
       "True"
      ]
     },
     "execution_count": 14,
     "metadata": {},
     "output_type": "execute_result"
    }
   ],
   "source": [
    "bool(val)"
   ]
  },
  {
   "cell_type": "code",
   "execution_count": 15,
   "id": "d2e78a74-114b-434d-88ba-e49ba43f03e5",
   "metadata": {},
   "outputs": [
    {
     "data": {
      "text/plain": [
       "'1'"
      ]
     },
     "execution_count": 15,
     "metadata": {},
     "output_type": "execute_result"
    }
   ],
   "source": [
    "str(val)"
   ]
  },
  {
   "cell_type": "markdown",
   "id": "61697d72-1dc2-4b14-815e-fa2e9ebb7529",
   "metadata": {},
   "source": [
    "## Integer\n",
    "\n",
    "Recall that an integer is a whole number; positive, negative or zero.\n",
    "\n",
    "They are useful for counting and indexing, and are exact."
   ]
  },
  {
   "cell_type": "code",
   "execution_count": null,
   "id": "202c4c4c-5b75-43b7-95e9-cbe1862290d3",
   "metadata": {},
   "outputs": [],
   "source": []
  },
  {
   "cell_type": "markdown",
   "id": "2626b35a-02fc-4d29-87e1-a396e6f96e36",
   "metadata": {},
   "source": [
    "## Real\n",
    "\n",
    "Real numbers are most often represented in Python with a `float` or floating point number.\n",
    "\n",
    "https://en.wikipedia.org/wiki/IEEE_754\n",
    "\n",
    "The float parts means the decimal point can float left and right within the number\n",
    "\n",
    "These numbers have the same digits, but the position of the point changes.\n",
    "\n",
    "10000.1\n",
    "\n",
    "or \n",
    "\n",
    "1.00001\n",
    "\n",
    "but using binary instead of decimal numbers when it is stored."
   ]
  },
  {
   "cell_type": "code",
   "execution_count": 16,
   "id": "7aec43f4-75d4-4086-8d62-076649ef4e53",
   "metadata": {},
   "outputs": [
    {
     "data": {
      "text/plain": [
       "0.3"
      ]
     },
     "execution_count": 16,
     "metadata": {},
     "output_type": "execute_result"
    }
   ],
   "source": [
    "0.3 "
   ]
  },
  {
   "cell_type": "code",
   "execution_count": null,
   "id": "4944d3fe-c082-4ef9-8cdd-c5497d43299e",
   "metadata": {},
   "outputs": [],
   "source": [
    "0.1 + 0.1 + 0.1"
   ]
  },
  {
   "cell_type": "code",
   "execution_count": 19,
   "id": "da5ae22f-88ca-40be-840b-186419c4ac4c",
   "metadata": {},
   "outputs": [
    {
     "data": {
      "text/plain": [
       "0.375"
      ]
     },
     "execution_count": 19,
     "metadata": {},
     "output_type": "execute_result"
    }
   ],
   "source": [
    "0.375"
   ]
  },
  {
   "cell_type": "code",
   "execution_count": 20,
   "id": "9ef5d30f-4a45-49d1-a3e9-13a71f48b6f2",
   "metadata": {},
   "outputs": [
    {
     "data": {
      "text/plain": [
       "0.375"
      ]
     },
     "execution_count": 20,
     "metadata": {},
     "output_type": "execute_result"
    }
   ],
   "source": [
    "0.125 + 0.125 + 0.125"
   ]
  },
  {
   "cell_type": "code",
   "execution_count": null,
   "id": "5ec88395-5f41-48de-b0a3-2c01d2ca45bb",
   "metadata": {},
   "outputs": [],
   "source": []
  },
  {
   "cell_type": "code",
   "execution_count": null,
   "id": "f5c51380-d0f8-4073-abdd-36197450c54d",
   "metadata": {},
   "outputs": [],
   "source": []
  },
  {
   "cell_type": "markdown",
   "id": "c5f3f1b1-064d-4da5-b1f7-55f2f8e122d8",
   "metadata": {},
   "source": [
    "## Boolean"
   ]
  },
  {
   "cell_type": "code",
   "execution_count": null,
   "id": "e9a2f85f-8586-4f4d-b435-b1e11708f911",
   "metadata": {},
   "outputs": [],
   "source": []
  },
  {
   "cell_type": "markdown",
   "id": "ef9e54ad-def2-4431-b1e9-4c2093042bee",
   "metadata": {},
   "source": [
    "## Character"
   ]
  },
  {
   "cell_type": "code",
   "execution_count": null,
   "id": "cdb5e05e-79ef-4c7c-acf6-7a15b6acd0f6",
   "metadata": {},
   "outputs": [],
   "source": []
  },
  {
   "cell_type": "code",
   "execution_count": null,
   "id": "cc09a00d-8d58-4c3c-b707-d81b8cca9796",
   "metadata": {},
   "outputs": [],
   "source": []
  }
 ],
 "metadata": {
  "kernelspec": {
   "display_name": "Python 3 (ipykernel)",
   "language": "python",
   "name": "python3"
  },
  "language_info": {
   "codemirror_mode": {
    "name": "ipython",
    "version": 3
   },
   "file_extension": ".py",
   "mimetype": "text/x-python",
   "name": "python",
   "nbconvert_exporter": "python",
   "pygments_lexer": "ipython3",
   "version": "3.9.16"
  }
 },
 "nbformat": 4,
 "nbformat_minor": 5
}
